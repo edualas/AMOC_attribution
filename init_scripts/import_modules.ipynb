{
 "cells": [
  {
   "cell_type": "markdown",
   "id": "7601605d-d0cb-4aa1-83a7-9e72a7b831ec",
   "metadata": {},
   "source": [
    " <b><i> import_modules </i></b>\n",
    "\n",
    "\n",
    "Created by Eduardo Alastrue de Asenjo on 2022-08-10\n",
    "\n",
    "- Purpose: import Python modules\n",
    "- Method: \n",
    "- Comments: works with kernel python3/unstable in DKRZ's JupyterHub  \n"
   ]
  },
  {
   "cell_type": "code",
   "execution_count": 4,
   "id": "ecb550ea-69d4-454d-bf8d-f9dbbd546013",
   "metadata": {
    "ExecuteTime": {
     "end_time": "2022-05-20T12:39:52.495689Z",
     "start_time": "2022-05-20T12:39:51.949404Z"
    },
    "execution": {
     "iopub.execute_input": "2023-10-21T10:59:56.076401Z",
     "iopub.status.busy": "2023-10-21T10:59:56.076079Z",
     "iopub.status.idle": "2023-10-21T10:59:56.210202Z",
     "shell.execute_reply": "2023-10-21T10:59:56.209629Z",
     "shell.execute_reply.started": "2023-10-21T10:59:56.076380Z"
    },
    "init_cell": true,
    "tags": []
   },
   "outputs": [],
   "source": [
    "import numpy as np\n",
    "import matplotlib.pyplot as plt\n",
    "import matplotlib as mpl\n",
    "import matplotlib.patches\n",
    "import os\n",
    "import math as math\n",
    "import netCDF4 as nc\n",
    "from scipy import stats\n",
    "from random import choices\n",
    "import copy\n",
    "import xarray as xr\n",
    "import datetime\n",
    "from tqdm import tqdm\n",
    "import glob\n",
    "import pickle\n",
    "import cdo # Import Cdo-py\n",
    "cdo = cdo.Cdo(tempdir='/scratch/m/m300817/tmp/cdo-py') # change to your scratch dir\n",
    "import seaborn as sns\n",
    "sns.set(rc={'figure.figsize':(11.7,8.27)},font_scale=1.5)\n",
    "sns.set_style(\"white\")\n",
    "plt.rcParams['xtick.bottom'] = True\n",
    "plt.rcParams['ytick.left'] = True\n",
    "plotdir = '../plots/' # plots go to a subdir of directory where the scripts are\n",
    "if not os.path.exists(plotdir):\n",
    "    os.makedirs(plotdir)\n",
    "import statsmodels.api as sm \n",
    "import pylab as py \n",
    "import matplotlib.patches as mpatches\n",
    "import matplotlib.lines as mlines"
   ]
  }
 ],
 "metadata": {
  "kernelspec": {
   "display_name": "Python 3 (based on the module python3/unstable",
   "language": "python",
   "name": "python3_unstable"
  },
  "language_info": {
   "codemirror_mode": {
    "name": "ipython",
    "version": 3
   },
   "file_extension": ".py",
   "mimetype": "text/x-python",
   "name": "python",
   "nbconvert_exporter": "python",
   "pygments_lexer": "ipython3",
   "version": "3.10.10"
  }
 },
 "nbformat": 4,
 "nbformat_minor": 5
}
